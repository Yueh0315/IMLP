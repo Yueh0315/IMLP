{
 "cells": [
  {
   "attachments": {},
   "cell_type": "markdown",
   "id": "11bd03b4",
   "metadata": {},
   "source": [
    "# 皮爾遜相關係數\n",
    "\n",
    "```\n",
    "購物問卷調查實例\n",
    "詢問消費者2019年對於整個購物的滿意度，以及針對調查對象詢問今年再次繼續購買商品的次數。\n",
    "\n",
    "平均滿意度為8\n",
    "平均再次購買次數12\n",
    "```\n",
    "![](images/pearson.PNG)"
   ]
  },
  {
   "cell_type": "code",
   "execution_count": 6,
   "id": "e9114660",
   "metadata": {},
   "outputs": [
    {
     "name": "stdout",
     "output_type": "stream",
     "text": [
      "8.0\n",
      "12.0\n",
      "30.0 18.0 196.0\n",
      "correlation = 0.51\n"
     ]
    }
   ],
   "source": [
    "import numpy as np\n",
    "\n",
    "x = np.array([8, 9, 10, 7, 8, 9, 5, 7, 9, 8])\n",
    "y = np.array([12, 15, 16, 18, 6, 11, 3, 12, 11, 16])             \n",
    "\n",
    "x_mean = np.mean(x)\n",
    "y_mean = np.mean(y)\n",
    "\n",
    "print(x_mean)\n",
    "print(y_mean)\n",
    "\n",
    "xi_x = [(xi - x_mean) for xi in x]\n",
    "yi_y = [(yi - y_mean) for yi in y]\n",
    "\n",
    "data1 = [0]*10\n",
    "data2 = [0]*10\n",
    "data3 = [0]*10\n",
    "\n",
    "for i in range(len(x)):\n",
    "    data1[i] = xi_x[i] * yi_y[i]\n",
    "    data2[i] = xi_x[i] ** 2\n",
    "    data3[i] = yi_y[i] ** 2\n",
    "\n",
    "v1 = np.sum(data1)\n",
    "v2 = np.sum(data2)\n",
    "v3 = np.sum(data3)\n",
    "\n",
    "print(v1,v2,v3)\n",
    "\n",
    "corr = v1 / np.sqrt(v2 * v3)\n",
    "print(f'correlation = {corr:.2f}')\n"
   ]
  },
  {
   "attachments": {},
   "cell_type": "markdown",
   "id": "3331f4be",
   "metadata": {},
   "source": [
    "## 繪製消費者滿意度與再購買次數的散佈圖"
   ]
  },
  {
   "cell_type": "code",
   "execution_count": 7,
   "id": "a91dc28d",
   "metadata": {},
   "outputs": [
    {
     "data": {
      "image/png": "[encoded data removed]",
      "text/plain": [
       "<Figure size 640x480 with 1 Axes>"
      ]
     },
     "metadata": {},
     "output_type": "display_data"
    }
   ],
   "source": [
    "import numpy as np\n",
    "import matplotlib.pyplot as plt\n",
    "\n",
    "x = np.array([8, 9, 10, 7, 8, 9, 5, 7, 9, 8])\n",
    "y = np.array([12, 15, 16, 18, 6, 11, 3, 12, 11, 16])             \n",
    "x_mean = np.mean(x)\n",
    "y_mean = np.mean(y)\n",
    "xpt1 = np.linspace(0, 12, 12)      \n",
    "ypt1 = [y_mean for xp in xpt1]          # 平均購買次數\n",
    "ypt2 = np.linspace(0, 20, 20)\n",
    "xpt2 = [x_mean for yp in ypt2]          # 平均滿意度\n",
    "\n",
    "plt.scatter(x, y)                       # 滿意度 vs 購買次數\n",
    "plt.plot(xpt1, ypt1, 'g')               # 平均購買次數\n",
    "plt.plot(xpt2, ypt2, 'b')               # 平均滿意度\n",
    "plt.grid()\n",
    "plt.show()"
   ]
  }
 ],
 "metadata": {
  "kernelspec": {
   "display_name": "venv",
   "language": "python",
   "name": "python3"
  },
  "language_info": {
   "codemirror_mode": {
    "name": "ipython",
    "version": 3
   },
   "file_extension": ".py",
   "mimetype": "text/x-python",
   "name": "python",
   "nbconvert_exporter": "python",
   "pygments_lexer": "ipython3",
   "version": "3.13.5"
  }
 },
 "nbformat": 4,
 "nbformat_minor": 5
}
